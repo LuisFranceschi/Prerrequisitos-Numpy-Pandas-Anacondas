{
 "cells": [
  {
   "cell_type": "code",
   "execution_count": 8,
   "metadata": {},
   "outputs": [
    {
     "name": "stdout",
     "output_type": "stream",
     "text": [
      "function elapsed  0.1779165267944336\n"
     ]
    }
   ],
   "source": [
    "import time as t\n",
    "import numpy as np\n",
    "x = np.random. random(1000000) # genera un arreglo aleatorio de datos enteros\n",
    "start = t.time()           # toma el tiempo inicial\n",
    "sum(x)/len(x)               # promedio\n",
    "end = t.time() - start     # calcula cuando demora el ciclo\n",
    "print('function elapsed ',end)"
   ]
  },
  {
   "cell_type": "code",
   "execution_count": 10,
   "metadata": {},
   "outputs": [
    {
     "name": "stdout",
     "output_type": "stream",
     "text": [
      "function elapsed  0.0019996166229248047\n"
     ]
    }
   ],
   "source": [
    "import time as t\n",
    "import numpy as np\n",
    "x = np.random. random(1000000) # genera un arreglo aleatorio de datos enteros\n",
    "start = t.time()           # toma el tiempo inicial\n",
    "np.sum(x)/len(x)               # promedio\n",
    "end = t.time() - start     # calcula cuando demora el ciclo\n",
    "print('function elapsed ',end)"
   ]
  },
  {
   "cell_type": "code",
   "execution_count": 11,
   "metadata": {},
   "outputs": [
    {
     "data": {
      "text/plain": [
       "array([[0., 0., 0., 0., 0., 0., 0., 0.],\n",
       "       [0., 0., 0., 0., 0., 0., 0., 0.],\n",
       "       [0., 0., 0., 0., 0., 0., 0., 0.],\n",
       "       [0., 0., 0., 0., 0., 0., 0., 0.],\n",
       "       [0., 0., 0., 0., 0., 0., 0., 0.]])"
      ]
     },
     "execution_count": 11,
     "metadata": {},
     "output_type": "execute_result"
    }
   ],
   "source": [
    "import numpy as np\n",
    "x = np.zeros((5,8))\n",
    "x"
   ]
  },
  {
   "cell_type": "code",
   "execution_count": 12,
   "metadata": {},
   "outputs": [
    {
     "name": "stdout",
     "output_type": "stream",
     "text": [
      "[[1. 1. 1. 1.]\n",
      " [1. 1. 1. 1.]\n",
      " [1. 1. 1. 1.]]\n",
      "\n",
      "[[1. 0. 0. 0. 0.]\n",
      " [0. 1. 0. 0. 0.]\n",
      " [0. 0. 1. 0. 0.]\n",
      " [0. 0. 0. 1. 0.]\n",
      " [0. 0. 0. 0. 1.]]\n"
     ]
    }
   ],
   "source": [
    "import numpy as np\n",
    "x = np.ones((3,4))\n",
    "y = np.eye(5)\n",
    "print(x)\n",
    "print()\n",
    "print(y)"
   ]
  },
  {
   "cell_type": "code",
   "execution_count": 16,
   "metadata": {},
   "outputs": [
    {
     "name": "stdout",
     "output_type": "stream",
     "text": [
      "[[ 0.   1.5  3.   4.5]\n",
      " [ 6.   7.5  9.  10.5]\n",
      " [12.  13.5 15.  16.5]\n",
      " [18.  19.5 21.  22.5]\n",
      " [24.  25.5 27.  28.5]]\n"
     ]
    }
   ],
   "source": [
    "import numpy as np\n",
    "x = np.linspace(0, 30, 20, endpoint=False)\n",
    "x = np.reshape(x, (5,4))\n",
    "print(x)"
   ]
  },
  {
   "cell_type": "code",
   "execution_count": 14,
   "metadata": {},
   "outputs": [
    {
     "name": "stdout",
     "output_type": "stream",
     "text": [
      "[[2.2 2.2 2.2 2.2]\n",
      " [2.2 2.2 2.2 2.2]\n",
      " [2.2 2.2 2.2 2.2]\n",
      " [2.2 2.2 2.2 2.2]]\n"
     ]
    }
   ],
   "source": [
    "import numpy as np\n",
    "x = np.full((4,4),2.2)\n",
    "print(x)"
   ]
  },
  {
   "cell_type": "code",
   "execution_count": 18,
   "metadata": {},
   "outputs": [
    {
     "name": "stdout",
     "output_type": "stream",
     "text": [
      "[[ 0  1]\n",
      " [ 2  3]\n",
      " [ 4  5]\n",
      " [ 6  7]\n",
      " [ 8  9]\n",
      " [10 11]\n",
      " [12 13]\n",
      " [14 15]\n",
      " [16 17]\n",
      " [18 -2]]\n"
     ]
    }
   ],
   "source": [
    "import numpy as np\n",
    "x = np.array(np.arange(20).reshape(10,2))\n",
    "x[9,1] = -2\n",
    "print(x)"
   ]
  },
  {
   "cell_type": "code",
   "execution_count": 1,
   "metadata": {},
   "outputs": [
    {
     "name": "stdout",
     "output_type": "stream",
     "text": [
      "[[ 2  4  6]\n",
      " [ 8 10 12]]\n",
      "\n",
      "[[14 16 18]\n",
      " [20 22 24]]\n",
      "\n",
      "[[26 28 30]\n",
      " [32 34 36]]\n",
      "\n",
      "[[38 40 42]\n",
      " [44 46 48]]\n",
      "\n",
      "[[50 52 54]\n",
      " [56 58 60]]\n"
     ]
    }
   ],
   "source": [
    "import numpy as np\n",
    "x = np.arange(2,14,2).reshape((2,3))\n",
    "print(x)\n",
    "print()\n",
    "x = np.arange(14,26,2).reshape((2,3))\n",
    "print(x)\n",
    "print()\n",
    "x = np.arange(26,38,2).reshape((2,3))\n",
    "print(x)\n",
    "print()\n",
    "x = np.arange(38,50,2).reshape((2,3))\n",
    "print(x)\n",
    "print()\n",
    "x = np.arange(50,62,2).reshape((2,3))\n",
    "print(x)"
   ]
  },
  {
   "cell_type": "code",
   "execution_count": 2,
   "metadata": {},
   "outputs": [
    {
     "name": "stdout",
     "output_type": "stream",
     "text": [
      "[[ 1  2  3  4  5  6]\n",
      " [ 7  8  9 10 11 12]\n",
      " [13 14 15 16 17 18]\n",
      " [19 20 21 22 23 24]\n",
      " [25 26 27 28 29 30]]\n"
     ]
    }
   ],
   "source": [
    "import numpy as np\n",
    "x = np.arange(1,31).reshape((5,6))\n",
    "print(x)"
   ]
  },
  {
   "cell_type": "code",
   "execution_count": 5,
   "metadata": {},
   "outputs": [
    {
     "name": "stdout",
     "output_type": "stream",
     "text": [
      "[ 1  3  5  7  9 11 13 15 17 19 21 23 25 27 29]\n"
     ]
    }
   ],
   "source": [
    "import numpy as np\n",
    "primos = (x[x%2==1])\n",
    "print(primos)\n"
   ]
  },
  {
   "cell_type": "code",
   "execution_count": 7,
   "metadata": {},
   "outputs": [
    {
     "name": "stdout",
     "output_type": "stream",
     "text": [
      "[[0. 0. 0. 0. 0. 0. 0. 0.]\n",
      " [0. 0. 0. 0. 0. 0. 0. 0.]\n",
      " [0. 0. 0. 0. 0. 0. 0. 0.]\n",
      " [0. 0. 0. 0. 0. 0. 0. 0.]]\n",
      "[1 2 3 4 5 6 7 8]\n"
     ]
    }
   ],
   "source": [
    "a = np.zeros((4,8))\n",
    "print(a)\n",
    "b = np.array([1,2,3,4,5,6,7,8])\n",
    "print(b)"
   ]
  },
  {
   "cell_type": "code",
   "execution_count": 8,
   "metadata": {},
   "outputs": [
    {
     "name": "stdout",
     "output_type": "stream",
     "text": [
      "[[1. 2. 3. 4. 5. 6. 7. 8.]\n",
      " [1. 2. 3. 4. 5. 6. 7. 8.]\n",
      " [1. 2. 3. 4. 5. 6. 7. 8.]\n",
      " [1. 2. 3. 4. 5. 6. 7. 8.]]\n"
     ]
    }
   ],
   "source": [
    "import numpy as np\n",
    "a[:, 0] =  1\n",
    "a[:, 1] =  2\n",
    "a[:, 2] =  3\n",
    "a[:, 3] =  4\n",
    "a[:, 4] =  5\n",
    "a[:, 5] =  6\n",
    "a[:, 6] =  7\n",
    "a[:, 7] =  8\n",
    "print(a)"
   ]
  },
  {
   "cell_type": "code",
   "execution_count": null,
   "metadata": {},
   "outputs": [],
   "source": []
  }
 ],
 "metadata": {
  "kernelspec": {
   "display_name": "Python 3",
   "language": "python",
   "name": "python3"
  },
  "language_info": {
   "codemirror_mode": {
    "name": "ipython",
    "version": 3
   },
   "file_extension": ".py",
   "mimetype": "text/x-python",
   "name": "python",
   "nbconvert_exporter": "python",
   "pygments_lexer": "ipython3",
   "version": "3.8.3"
  }
 },
 "nbformat": 4,
 "nbformat_minor": 4
}
