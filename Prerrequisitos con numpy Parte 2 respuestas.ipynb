{
 "cells": [
  {
   "cell_type": "code",
   "execution_count": 1,
   "metadata": {},
   "outputs": [],
   "source": [
    "import numpy as np\n",
    "np.random.seed(42) # estabilidad en la generacione de numeros aleatorios\n",
    "\n",
    "# crear el arreglo x de 500x300 con enteros entre (0,10000]\n",
    "x =np.random.randint(0, 10001, size=(500,300))"
   ]
  },
  {
   "cell_type": "code",
   "execution_count": 2,
   "metadata": {},
   "outputs": [
    {
     "name": "stdout",
     "output_type": "stream",
     "text": [
      "shape:(500, 300)\n",
      "size:150000\n",
      "max:10000\n",
      "min:0\n"
     ]
    }
   ],
   "source": [
    "print(f'shape:{x.shape}')\n",
    "print(f'size:{x.size}')\n",
    "print(f'max:{x.max()}')\n",
    "print(f'min:{x.min()}')"
   ]
  },
  {
   "cell_type": "code",
   "execution_count": 3,
   "metadata": {},
   "outputs": [],
   "source": [
    "# promedio de los valores de cada columna de x\n",
    "xrow_prom = np.mean(x, axis=0)\n",
    "# desviacion estandar de los valores en cada columna de x\n",
    "xrow_std = np.std(x, axis=0)"
   ]
  },
  {
   "cell_type": "code",
   "execution_count": 4,
   "metadata": {},
   "outputs": [
    {
     "data": {
      "text/plain": [
       "((300,), (300,))"
      ]
     },
     "execution_count": 4,
     "metadata": {},
     "output_type": "execute_result"
    }
   ],
   "source": [
    "xrow_prom.shape, xrow_std.shape"
   ]
  },
  {
   "cell_type": "code",
   "execution_count": 5,
   "metadata": {},
   "outputs": [],
   "source": [
    "norm = ((x-xrow_prom)/xrow_std)"
   ]
  },
  {
   "cell_type": "code",
   "execution_count": 6,
   "metadata": {},
   "outputs": [
    {
     "name": "stdout",
     "output_type": "stream",
     "text": [
      "Media: -2.4632148173016807e-18\n",
      "Máximo: 1.8726267617090666\n",
      "Minimo: -1.9511544494198068\n"
     ]
    }
   ],
   "source": [
    "print('Media:',norm.mean())\n",
    "print('Máximo:',norm.max())\n",
    "print('Minimo:',norm.min())"
   ]
  },
  {
   "cell_type": "code",
   "execution_count": 7,
   "metadata": {},
   "outputs": [
    {
     "name": "stdout",
     "output_type": "stream",
     "text": [
      "[3 2 0 4 1]\n"
     ]
    }
   ],
   "source": [
    "print(np.random.permutation(5))"
   ]
  },
  {
   "cell_type": "code",
   "execution_count": 8,
   "metadata": {},
   "outputs": [],
   "source": [
    "import numpy as np\n",
    "indices_filas = np.random.permutation(norm.shape[0])"
   ]
  },
  {
   "cell_type": "code",
   "execution_count": 9,
   "metadata": {},
   "outputs": [
    {
     "name": "stdout",
     "output_type": "stream",
     "text": [
      "(500,)\n"
     ]
    }
   ],
   "source": [
    "print(indices_filas.shape)"
   ]
  },
  {
   "cell_type": "code",
   "execution_count": 10,
   "metadata": {},
   "outputs": [],
   "source": [
    "# calcule el total del arreglo indices_filas\n",
    "n = indices_filas.shape[0]\n",
    "\n",
    "# calcule los valores de training set, no hardcoded\n",
    "train_start = int(0)\n",
    "train_end   = int(n*(0.6))\n",
    "\n",
    "# calcule los valores de validation set, no hardcoded\n",
    "valid_start = train_end\n",
    "valid_end   = int(train_end + n*0.2)\n",
    "\n",
    "# calcule los valores del test set, no hardcoded\n",
    "test_start = valid_end\n",
    "test_end   = int(valid_end + n*0.2)"
   ]
  },
  {
   "cell_type": "code",
   "execution_count": 11,
   "metadata": {},
   "outputs": [
    {
     "name": "stdout",
     "output_type": "stream",
     "text": [
      "0 300\n",
      "300 400\n",
      "400 500\n"
     ]
    }
   ],
   "source": [
    "print(train_start, train_end)\n",
    "print(valid_start, valid_end)\n",
    "print(test_start, test_end)"
   ]
  },
  {
   "cell_type": "code",
   "execution_count": 12,
   "metadata": {},
   "outputs": [
    {
     "name": "stdout",
     "output_type": "stream",
     "text": [
      "\n"
     ]
    }
   ],
   "source": [
    "import numpy as np\n",
    "# de norm, tome la sección inicial y final que corresponde al training set\n",
    "train_set = norm[indices_filas[train_start:train_end],]\n",
    "\n",
    "# de norm, tome la seccion inicial y final que corresponde al validation set\n",
    "valid_set = norm[indices_filas[valid_start:valid_end],]\n",
    "\n",
    "# de norm, tome la seccion inicial y final que corresponde al test set\n",
    "test_set = norm[indices_filas[test_start:test_end],]\n",
    "print()"
   ]
  },
  {
   "cell_type": "code",
   "execution_count": 13,
   "metadata": {},
   "outputs": [
    {
     "name": "stdout",
     "output_type": "stream",
     "text": [
      "(300, 300)\n",
      "(100, 300)\n",
      "(100, 300)\n"
     ]
    }
   ],
   "source": [
    "# imprima el .shape de training set\n",
    "print(train_set.shape)\n",
    "\n",
    "# imprima el .shape del validation set\n",
    "print(valid_set.shape)\n",
    "\n",
    "# imprima el .shape del test set\n",
    "print(test_set.shape)"
   ]
  },
  {
   "cell_type": "code",
   "execution_count": null,
   "metadata": {},
   "outputs": [],
   "source": []
  }
 ],
 "metadata": {
  "kernelspec": {
   "display_name": "Python 3",
   "language": "python",
   "name": "python3"
  },
  "language_info": {
   "codemirror_mode": {
    "name": "ipython",
    "version": 3
   },
   "file_extension": ".py",
   "mimetype": "text/x-python",
   "name": "python",
   "nbconvert_exporter": "python",
   "pygments_lexer": "ipython3",
   "version": "3.8.3"
  }
 },
 "nbformat": 4,
 "nbformat_minor": 4
}
